{
  "nbformat": 4,
  "nbformat_minor": 0,
  "metadata": {
    "colab": {
      "name": "Copy of MNIST_TransferLearning.ipynb",
      "version": "0.3.2",
      "provenance": [],
      "collapsed_sections": [],
      "include_colab_link": true
    },
    "kernelspec": {
      "name": "python3",
      "display_name": "Python 3"
    },
    "accelerator": "GPU"
  },
  "cells": [
    {
      "cell_type": "markdown",
      "metadata": {
        "id": "view-in-github",
        "colab_type": "text"
      },
      "source": [
        "<a href=\"https://colab.research.google.com/github/rcpbayindir/A_Guide_to_Running_Tensorflow_Models_on_Android/blob/master/Copy_of_MNIST_TransferLearning.ipynb\" target=\"_parent\"><img src=\"https://colab.research.google.com/assets/colab-badge.svg\" alt=\"Open In Colab\"/></a>"
      ]
    },
    {
      "cell_type": "markdown",
      "metadata": {
        "id": "duRZ5YiaGDru",
        "colab_type": "text"
      },
      "source": [
        "# **Hands on #2**\n",
        "# Transfer Learning Using MNIST Dataset\n",
        "-------------------------------------------------"
      ]
    },
    {
      "cell_type": "code",
      "metadata": {
        "id": "dgzj62jOIpNz",
        "colab_type": "code",
        "colab": {
          "base_uri": "https://localhost:8080/",
          "height": 34
        },
        "outputId": "058392dd-a121-4540-ed10-05fc8afd7469"
      },
      "source": [
        "import keras\n",
        "from keras.applications.vgg16 import VGG16\n",
        "from keras.preprocessing import image\n",
        "from keras.applications.vgg16 import preprocess_input\n",
        "from keras.layers import Input, Flatten, Dense\n",
        "from keras.models import Model, load_model"
      ],
      "execution_count": 1,
      "outputs": [
        {
          "output_type": "stream",
          "text": [
            "Using TensorFlow backend.\n"
          ],
          "name": "stderr"
        }
      ]
    },
    {
      "cell_type": "markdown",
      "metadata": {
        "id": "HLPLLFxmGrBX",
        "colab_type": "text"
      },
      "source": [
        "# Loading and Preprocessing MNIST dataset"
      ]
    },
    {
      "cell_type": "code",
      "metadata": {
        "id": "9Fyn2lC5GEFs",
        "colab_type": "code",
        "colab": {
          "base_uri": "https://localhost:8080/",
          "height": 50
        },
        "outputId": "5fa14fd8-d5bf-4e7d-bbe5-0703400288c6"
      },
      "source": [
        "from keras.datasets import mnist\n",
        "\n",
        "# loading MNIST dataset\n",
        "(x_train, y_train), (x_test, y_test) = mnist.load_data()\n",
        "\n",
        "# Normalize the dataset\n",
        "x_train = x_train.astype('float32')\n",
        "x_test = x_test.astype('float32')\n",
        "x_train /= 255\n",
        "x_test /= 255\n",
        "\n",
        "################ Preprocessing ##############\n",
        "import cv2\n",
        "import numpy as np\n",
        "\n",
        "# Converting images to RGB\n",
        "x_train = [cv2.cvtColor(cv2.resize(i, (32,32)), cv2.COLOR_GRAY2BGR) for i in x_train]\n",
        "x_train = np.concatenate([arr[np.newaxis] for arr in x_train]).astype('float32')\n",
        "\n",
        "x_test = [cv2.cvtColor(cv2.resize(i, (32,32)), cv2.COLOR_GRAY2BGR) for i in x_test]\n",
        "x_test = np.concatenate([arr[np.newaxis] for arr in x_test]).astype('float32')   \n",
        "\n",
        "# Convert labels to categorical\n",
        "from keras.utils import to_categorical\n",
        "y_train = to_categorical(y_train, 10)\n",
        "y_test = to_categorical(y_test, 10)"
      ],
      "execution_count": 2,
      "outputs": [
        {
          "output_type": "stream",
          "text": [
            "Downloading data from https://s3.amazonaws.com/img-datasets/mnist.npz\n",
            "11493376/11490434 [==============================] - 1s 0us/step\n"
          ],
          "name": "stdout"
        }
      ]
    },
    {
      "cell_type": "markdown",
      "metadata": {
        "id": "98x42jJMICmR",
        "colab_type": "text"
      },
      "source": [
        "# Transfer Learning using VGG16 trained on imagenet"
      ]
    },
    {
      "cell_type": "code",
      "metadata": {
        "id": "7Hc-ZJMXz4u8",
        "colab_type": "code",
        "outputId": "b015c5a4-8415-431a-b350-5d962d401ece",
        "colab": {
          "base_uri": "https://localhost:8080/",
          "height": 843
        }
      },
      "source": [
        "model_vgg16_conv = VGG16(weights='imagenet', include_top=False)\n",
        "model_vgg16_conv.summary()"
      ],
      "execution_count": 0,
      "outputs": [
        {
          "output_type": "stream",
          "text": [
            "Downloading data from https://github.com/fchollet/deep-learning-models/releases/download/v0.1/vgg16_weights_tf_dim_ordering_tf_kernels_notop.h5\n",
            "58892288/58889256 [==============================] - 6s 0us/step\n",
            "Model: \"vgg16\"\n",
            "_________________________________________________________________\n",
            "Layer (type)                 Output Shape              Param #   \n",
            "=================================================================\n",
            "input_3 (InputLayer)         (None, None, None, 3)     0         \n",
            "_________________________________________________________________\n",
            "block1_conv1 (Conv2D)        (None, None, None, 64)    1792      \n",
            "_________________________________________________________________\n",
            "block1_conv2 (Conv2D)        (None, None, None, 64)    36928     \n",
            "_________________________________________________________________\n",
            "block1_pool (MaxPooling2D)   (None, None, None, 64)    0         \n",
            "_________________________________________________________________\n",
            "block2_conv1 (Conv2D)        (None, None, None, 128)   73856     \n",
            "_________________________________________________________________\n",
            "block2_conv2 (Conv2D)        (None, None, None, 128)   147584    \n",
            "_________________________________________________________________\n",
            "block2_pool (MaxPooling2D)   (None, None, None, 128)   0         \n",
            "_________________________________________________________________\n",
            "block3_conv1 (Conv2D)        (None, None, None, 256)   295168    \n",
            "_________________________________________________________________\n",
            "block3_conv2 (Conv2D)        (None, None, None, 256)   590080    \n",
            "_________________________________________________________________\n",
            "block3_conv3 (Conv2D)        (None, None, None, 256)   590080    \n",
            "_________________________________________________________________\n",
            "block3_pool (MaxPooling2D)   (None, None, None, 256)   0         \n",
            "_________________________________________________________________\n",
            "block4_conv1 (Conv2D)        (None, None, None, 512)   1180160   \n",
            "_________________________________________________________________\n",
            "block4_conv2 (Conv2D)        (None, None, None, 512)   2359808   \n",
            "_________________________________________________________________\n",
            "block4_conv3 (Conv2D)        (None, None, None, 512)   2359808   \n",
            "_________________________________________________________________\n",
            "block4_pool (MaxPooling2D)   (None, None, None, 512)   0         \n",
            "_________________________________________________________________\n",
            "block5_conv1 (Conv2D)        (None, None, None, 512)   2359808   \n",
            "_________________________________________________________________\n",
            "block5_conv2 (Conv2D)        (None, None, None, 512)   2359808   \n",
            "_________________________________________________________________\n",
            "block5_conv3 (Conv2D)        (None, None, None, 512)   2359808   \n",
            "_________________________________________________________________\n",
            "block5_pool (MaxPooling2D)   (None, None, None, 512)   0         \n",
            "=================================================================\n",
            "Total params: 14,714,688\n",
            "Trainable params: 14,714,688\n",
            "Non-trainable params: 0\n",
            "_________________________________________________________________\n"
          ],
          "name": "stdout"
        }
      ]
    },
    {
      "cell_type": "code",
      "metadata": {
        "id": "MMSxGzw8I5ia",
        "colab_type": "code",
        "outputId": "33de8cae-c739-45c0-d7a4-188e226fe4d9",
        "colab": {
          "base_uri": "https://localhost:8080/",
          "height": 790
        }
      },
      "source": [
        "# Make vgg16 model layers as non trainable\n",
        "for layer in model_vgg16_conv.layers:\n",
        "   layer.trainable = False\n",
        "    \n",
        "model_vgg16_conv.summary()    "
      ],
      "execution_count": 0,
      "outputs": [
        {
          "output_type": "stream",
          "text": [
            "Model: \"vgg16\"\n",
            "_________________________________________________________________\n",
            "Layer (type)                 Output Shape              Param #   \n",
            "=================================================================\n",
            "input_3 (InputLayer)         (None, None, None, 3)     0         \n",
            "_________________________________________________________________\n",
            "block1_conv1 (Conv2D)        (None, None, None, 64)    1792      \n",
            "_________________________________________________________________\n",
            "block1_conv2 (Conv2D)        (None, None, None, 64)    36928     \n",
            "_________________________________________________________________\n",
            "block1_pool (MaxPooling2D)   (None, None, None, 64)    0         \n",
            "_________________________________________________________________\n",
            "block2_conv1 (Conv2D)        (None, None, None, 128)   73856     \n",
            "_________________________________________________________________\n",
            "block2_conv2 (Conv2D)        (None, None, None, 128)   147584    \n",
            "_________________________________________________________________\n",
            "block2_pool (MaxPooling2D)   (None, None, None, 128)   0         \n",
            "_________________________________________________________________\n",
            "block3_conv1 (Conv2D)        (None, None, None, 256)   295168    \n",
            "_________________________________________________________________\n",
            "block3_conv2 (Conv2D)        (None, None, None, 256)   590080    \n",
            "_________________________________________________________________\n",
            "block3_conv3 (Conv2D)        (None, None, None, 256)   590080    \n",
            "_________________________________________________________________\n",
            "block3_pool (MaxPooling2D)   (None, None, None, 256)   0         \n",
            "_________________________________________________________________\n",
            "block4_conv1 (Conv2D)        (None, None, None, 512)   1180160   \n",
            "_________________________________________________________________\n",
            "block4_conv2 (Conv2D)        (None, None, None, 512)   2359808   \n",
            "_________________________________________________________________\n",
            "block4_conv3 (Conv2D)        (None, None, None, 512)   2359808   \n",
            "_________________________________________________________________\n",
            "block4_pool (MaxPooling2D)   (None, None, None, 512)   0         \n",
            "_________________________________________________________________\n",
            "block5_conv1 (Conv2D)        (None, None, None, 512)   2359808   \n",
            "_________________________________________________________________\n",
            "block5_conv2 (Conv2D)        (None, None, None, 512)   2359808   \n",
            "_________________________________________________________________\n",
            "block5_conv3 (Conv2D)        (None, None, None, 512)   2359808   \n",
            "_________________________________________________________________\n",
            "block5_pool (MaxPooling2D)   (None, None, None, 512)   0         \n",
            "=================================================================\n",
            "Total params: 14,714,688\n",
            "Trainable params: 0\n",
            "Non-trainable params: 14,714,688\n",
            "_________________________________________________________________\n"
          ],
          "name": "stdout"
        }
      ]
    },
    {
      "cell_type": "markdown",
      "metadata": {
        "id": "JDf3p6h0Myht",
        "colab_type": "text"
      },
      "source": [
        "**Freeze the weights of all of the layers**\n"
      ]
    },
    {
      "cell_type": "code",
      "metadata": {
        "id": "rAFjv00qJHHM",
        "colab_type": "code",
        "outputId": "a672335f-ccd1-4be8-b163-b521cdba13ab",
        "colab": {
          "base_uri": "https://localhost:8080/",
          "height": 222
        }
      },
      "source": [
        "img_shape = x_train.shape[1:]\n",
        "num_classes = 10\n",
        "\n",
        "#Create your own input format\n",
        "keras_input = Input(shape=img_shape, name = 'image_input')\n",
        "\n",
        "#Use the generated model \n",
        "output_vgg16_conv = model_vgg16_conv(keras_input)\n",
        "\n",
        "# Add the fully-connected layers \n",
        "My_vgg16 = Flatten(name='flatten')(output_vgg16_conv)\n",
        "My_vgg16 = Dense(256, activation='relu', name='fc1')(My_vgg16)\n",
        "My_vgg16 = Dense(64, activation='relu', name='fc2')(My_vgg16)\n",
        "My_vgg16 = Dense(num_classes, activation='softmax', name='predictions')(My_vgg16)\n",
        "\n",
        "#Create your own model \n",
        "pretrained_model = Model(inputs=keras_input, outputs=My_vgg16)\n",
        "pretrained_model.compile(loss='categorical_crossentropy', optimizer='adam', metrics=['accuracy'])\n",
        "\n",
        "# Train the model\n",
        "pretrained_model.fit(x_train, y_train, batch_size=32, epochs=2)\n",
        "\n",
        "# Evaluate the model\n",
        "score = pretrained_model.evaluate(x_test, y_test)\n",
        "print(\"Accuracy on test set: \", score[1])"
      ],
      "execution_count": 0,
      "outputs": [
        {
          "output_type": "stream",
          "text": [
            "WARNING:tensorflow:From /usr/local/lib/python3.6/dist-packages/keras/optimizers.py:793: The name tf.train.Optimizer is deprecated. Please use tf.compat.v1.train.Optimizer instead.\n",
            "\n",
            "WARNING:tensorflow:From /usr/local/lib/python3.6/dist-packages/tensorflow/python/ops/math_grad.py:1250: add_dispatch_support.<locals>.wrapper (from tensorflow.python.ops.array_ops) is deprecated and will be removed in a future version.\n",
            "Instructions for updating:\n",
            "Use tf.where in 2.0, which has the same broadcast rule as np.where\n",
            "Epoch 1/2\n",
            "60000/60000 [==============================] - 42s 705us/step - loss: 0.2799 - acc: 0.9140\n",
            "Epoch 2/2\n",
            "60000/60000 [==============================] - 38s 634us/step - loss: 0.1344 - acc: 0.9560\n",
            "10000/10000 [==============================] - 6s 589us/step\n",
            "Accuracy on test set:  0.9633\n"
          ],
          "name": "stdout"
        }
      ]
    },
    {
      "cell_type": "markdown",
      "metadata": {
        "id": "VVRrjnHWKtr0",
        "colab_type": "text"
      },
      "source": [
        "**Freeze the weights of all of the layers except last 4 layers**"
      ]
    },
    {
      "cell_type": "code",
      "metadata": {
        "id": "UZx3a972KcJ8",
        "colab_type": "code",
        "colab": {}
      },
      "source": [
        "# Make vgg16 model layers as non trainable\n",
        "for layer in model_vgg16_conv.layers[-4:]:\n",
        "   layer.trainable = True\n",
        "\n",
        "model_vgg16_conv.summary()"
      ],
      "execution_count": 0,
      "outputs": []
    },
    {
      "cell_type": "code",
      "metadata": {
        "id": "rLg6HRYBxDXp",
        "colab_type": "code",
        "colab": {}
      },
      "source": [
        "img_shape = x_train.shape[1:]\n",
        "\n",
        "#Create your own input format\n",
        "keras_input = Input(shape=img_shape, name = 'image_input')\n",
        "\n",
        "#Use the generated model \n",
        "output_vgg16_conv = model_vgg16_conv(keras_input)\n",
        "\n",
        "# Add the fully-connected layers \n",
        "My_vgg16 = Flatten(name='flatten')(output_vgg16_conv)\n",
        "My_vgg16 = Dense(256, activation='relu', name='fc1')(My_vgg16)\n",
        "My_vgg16 = Dense(64, activation='relu', name='fc2')(My_vgg16)\n",
        "My_vgg16 = Dense(num_classes, activation='softmax', name='predictions')(My_vgg16)\n",
        "\n",
        "#Create your own model \n",
        "pretrained_model = Model(inputs=keras_input, outputs=My_vgg16)\n",
        "pretrained_model.compile(loss='categorical_crossentropy', optimizer='adam', metrics=['accuracy'])\n",
        "\n",
        "# Train the model\n",
        "pretrained_model.fit(x_train, y_train, batch_size=32, epochs=2)\n",
        "\n",
        "# Evaluate the model\n",
        "score = pretrained_model.evaluate(x_test, y_test)\n",
        "print(\"Accuracy on test set: \", score[1])"
      ],
      "execution_count": 0,
      "outputs": []
    }
  ]
}